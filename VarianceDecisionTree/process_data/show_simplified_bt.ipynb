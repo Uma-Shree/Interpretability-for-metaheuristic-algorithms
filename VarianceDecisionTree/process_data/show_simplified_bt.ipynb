{
 "cells": [
  {
   "cell_type": "code",
   "execution_count": null,
   "id": "initial_id",
   "metadata": {
    "collapsed": true,
    "ExecuteTime": {
     "end_time": "2025-01-27T18:45:11.937597Z",
     "start_time": "2025-01-27T18:45:11.921972Z"
    }
   },
   "outputs": [],
   "source": []
  },
  {
   "cell_type": "code",
   "execution_count": 1,
   "outputs": [],
   "source": [
    "import utils\n",
    "from BenchmarkProblems.SimplifiedBTProblem.SimplifiedBTProblem import SimplifiedBTProblem\n",
    "from BenchmarkProblems.SATProblem import SATProblem, SATExplainer\n",
    "\n",
    "path = r\"C:\\Users\\gac8\\PycharmProjects\\PS-descriptors-LCS\\resources\\BT\\SimplifiedInstance\\problem.json\"\n",
    "problem = SimplifiedBTProblem.from_json(path)\n",
    "\n"
   ],
   "metadata": {
    "collapsed": false,
    "ExecuteTime": {
     "end_time": "2025-01-30T15:20:58.269791600Z",
     "start_time": "2025-01-30T15:20:57.910103300Z"
    }
   },
   "id": "9d6b0cb14bd04d6a"
  },
  {
   "cell_type": "code",
   "execution_count": 2,
   "outputs": [
    {
     "name": "stdout",
     "output_type": "stream",
     "text": [
      "generating the pRef......Finished (took 2.625089 seconds)\n",
      "The best solution is ADCBADBACABABBAABCA, it has fitness -0.0\n",
      "training the decision tree...Searching for a ps in a branch with 5776 datapoints......Finished (took 7.951756 seconds)\n",
      "The chosen ps is [* * * * * 3 * * 2 * * * * * * * * * *][-17.778, 56.420, ], it has order 2\n",
      "Searching for a ps in a branch with 3342 datapoints......Finished (took 7.835512 seconds)\n",
      "The chosen ps is [* * 2 * * 3 * * * * * * * * * * * * *][-8.889, 29.949, ], it has order 2\n",
      "Searching for a ps in a branch with 2919 datapoints......Finished (took 7.415267 seconds)\n",
      "The chosen ps is [* * * * * 3 * * 2 * * * * * * * 1 * *][-7.704, 24.653, ], it has order 3\n",
      "Searching for a ps in a branch with 423 datapoints......Finished (took 6.000869 seconds)\n",
      "The chosen ps is [* * * * 0 3 * * 2 * * * * * * * * * *][-8.593, 53.800, ], it has order 3\n",
      "Searching for a ps in a branch with 2434 datapoints......Finished (took 6.903630 seconds)\n",
      "The chosen ps is [* * 3 * * 1 * * 3 * * * * * 2 * * * *][-5.185, 81.163, ], it has order 4\n",
      "Searching for a ps in a branch with 178 datapoints......Finished (took 6.350010 seconds)\n",
      "The chosen ps is [1 * 3 * 1 * * 2 * * * * * * 2 * * * *][-4.267, 23.103, ], it has order 5\n",
      "Searching for a ps in a branch with 2256 datapoints......Finished (took 6.283521 seconds)\n",
      "The chosen ps is [2 * * * * 3 * 1 * * * * * * * * 2 * *][-5.333, 84.124, ], it has order 4\n",
      "...Finished (took 48.743482 seconds)\n",
      "Split by Felix = D, Isaac = C\n",
      "\t(matches) Split by Chloe = C, Felix = D\n",
      "\t\t(matches) Split by Felix = D, Isaac = C, Quinn = B\n",
      "\t\t\t(matches) Leaf(Average = -5.22, sd = 4.650783, ae = 3.75 variance = 21.63)\n",
      "\t\t\t(NOT matches)Leaf(Average = -7.71, sd = 6.130838, ae = 4.66 variance = 37.59)\n",
      "\t\t(NOT matches)Split by Ethan = A, Felix = D, Isaac = C\n",
      "\t\t\t(matches) Leaf(Average = -9.63, sd = 6.442266, ae = 4.89 variance = 41.50)\n",
      "\t\t\t(NOT matches)Leaf(Average = -15.24, sd = 9.400226, ae = 7.31 variance = 88.36)\n",
      "\t(NOT matches)Split by Chloe = D, Felix = B, Isaac = D, Olivia = C\n",
      "\t\t(matches) Split by Adam = B, Chloe = D, Ethan = B, Hannah = C, Olivia = C\n",
      "\t\t\t(matches) Leaf(Average = -5.75, sd = 3.694832, ae = 3.11 variance = 13.65)\n",
      "\t\t\t(NOT matches)Leaf(Average = -11.64, sd = 6.256237, ae = 5.01 variance = 39.14)\n",
      "\t\t(NOT matches)Split by Adam = C, Felix = D, Hannah = B, Quinn = C\n",
      "\t\t\t(matches) Leaf(Average = -9.81, sd = 5.164515, ae = 4.19 variance = 26.67)\n",
      "\t\t\t(NOT matches)Leaf(Average = -18.32, sd = 9.215432, ae = 7.26 variance = 84.92)\n"
     ]
    }
   ],
   "source": [
    "from utils import announce\n",
    "from VarianceDecisionTree.PSDecisionTree import PSDecisionTree\n",
    "from Explanation.PRefManager import PRefManager\n",
    "\n",
    "\n",
    "with announce(\"generating the pRef\"):\n",
    "    pRef = PRefManager.generate_pRef(problem = problem,\n",
    "                                     sample_size=10000,\n",
    "                                     which_algorithm=\"GA\")\n",
    "\n",
    "# AEBEBAEBABDBADAAABD , DEEBEBBBBBEADDBEDDB has fitness 0\n",
    "best_solution = pRef.get_best_solution()\n",
    "print(f\"The best solution is {problem.repr_fs(best_solution)}, it has fitness {best_solution.fitness}\")\n",
    "metrics = \"variance ground_truth_atomicity\"\n",
    "decision_tree = PSDecisionTree(maximum_depth=3,\n",
    "                               ps_budget=3000,\n",
    "                               ps_search_population_size=100,\n",
    "                               problem = problem,\n",
    "                               metrics_to_use=metrics,\n",
    "                               avoid_ancestors=True)\n",
    "with announce(\"training the decision tree\"):\n",
    "    decision_tree.train_from_pRef(pRef, verbose=True)\n",
    "    \n",
    "\n",
    "decision_tree.set_repr_ps(problem.repr_ps)\n",
    "\n",
    "print(decision_tree.repr_long())"
   ],
   "metadata": {
    "collapsed": false,
    "ExecuteTime": {
     "end_time": "2025-01-30T15:21:52.158602700Z",
     "start_time": "2025-01-30T15:21:00.201139600Z"
    }
   },
   "id": "c3d84e5ee74ebda6"
  },
  {
   "cell_type": "code",
   "execution_count": 11,
   "outputs": [],
   "source": [
    "from Core.EvaluatedFS import EvaluatedFS\n",
    "from Core.FullSolution import FullSolution\n",
    "import utils\n",
    "\n",
    "\n",
    "def apply_modification(fs: FullSolution, worker_name: str, new_rota: str) -> FullSolution:\n",
    "    worker_index = problem.worker_names.index(worker_name)\n",
    "    rota_index = utils.alphabet.index(new_rota)\n",
    "    return fs.with_different_value(worker_index, rota_index)\n",
    "\n",
    "def apply_modifications(fs: FullSolution, modifications) -> EvaluatedFS:\n",
    "    final_fs = fs.copy()\n",
    "    for name, rota in modifications:\n",
    "        final_fs = apply_modification(final_fs, name, rota)\n",
    "    return EvaluatedFS(final_fs, problem.fitness_function(final_fs))\n",
    "\n",
    "\n"
   ],
   "metadata": {
    "collapsed": false,
    "ExecuteTime": {
     "end_time": "2025-01-30T13:46:23.993131300Z",
     "start_time": "2025-01-30T13:46:23.983085900Z"
    }
   },
   "id": "c8a562477399a205"
  },
  {
   "cell_type": "code",
   "execution_count": 12,
   "outputs": [
    {
     "name": "stdout",
     "output_type": "stream",
     "text": [
      "Unmodified, the fitness is -30.0\n",
      "When applying [('Olivia', 'B')], we get -34.0\n",
      "When applying [('Katy', 'B')], we get -32.0\n",
      "When applying [('Leo', 'B')], we get -32.0\n"
     ]
    }
   ],
   "source": [
    "modification_alpha = [(\"Olivia\", \"B\")]\n",
    "modification_beta = [(\"Katy\", \"B\")]\n",
    "modification_gamma = [(\"Leo\", \"B\")]\n",
    "\n",
    "\n",
    "print(f\"Unmodified, the fitness is {best_solution.fitness}\")\n",
    "for modif in [modification_alpha, modification_beta, modification_gamma]:\n",
    "    print(f\"When applying {modif}, we get {apply_modifications(best_solution, modif).fitness}\")\n"
   ],
   "metadata": {
    "collapsed": false,
    "ExecuteTime": {
     "end_time": "2025-01-30T13:46:26.524269600Z",
     "start_time": "2025-01-30T13:46:26.511237200Z"
    }
   },
   "id": "c62306dc8549b45c"
  }
 ],
 "metadata": {
  "kernelspec": {
   "display_name": "Python 3",
   "language": "python",
   "name": "python3"
  },
  "language_info": {
   "codemirror_mode": {
    "name": "ipython",
    "version": 2
   },
   "file_extension": ".py",
   "mimetype": "text/x-python",
   "name": "python",
   "nbconvert_exporter": "python",
   "pygments_lexer": "ipython2",
   "version": "2.7.6"
  }
 },
 "nbformat": 4,
 "nbformat_minor": 5
}
