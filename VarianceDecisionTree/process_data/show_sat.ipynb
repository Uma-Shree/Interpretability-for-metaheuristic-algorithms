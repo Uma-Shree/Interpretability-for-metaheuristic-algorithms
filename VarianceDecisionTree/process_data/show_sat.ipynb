{
 "cells": [
  {
   "cell_type": "code",
   "execution_count": null,
   "id": "initial_id",
   "metadata": {
    "collapsed": true,
    "ExecuteTime": {
     "end_time": "2025-01-27T18:45:11.937597Z",
     "start_time": "2025-01-27T18:45:11.921972Z"
    }
   },
   "outputs": [],
   "source": []
  },
  {
   "cell_type": "code",
   "execution_count": 3,
   "outputs": [],
   "source": [
    "from BenchmarkProblems.SATProblem import SATProblem, SATExplainer\n",
    "\n",
    "path = r\"C:\\Users\\gac8\\PycharmProjects\\PS-descriptors-LCS\\resources\\problem_definitions\\SAT\\uf20-01.cnf\"\n",
    "problem = SATProblem.from_cnf_file(path)\n",
    "\n",
    "explainer = SATExplainer(problem)\n"
   ],
   "metadata": {
    "collapsed": false,
    "ExecuteTime": {
     "end_time": "2025-01-28T13:58:49.638242600Z",
     "start_time": "2025-01-28T13:58:49.612279600Z"
    }
   },
   "id": "9d6b0cb14bd04d6a"
  },
  {
   "cell_type": "code",
   "execution_count": 4,
   "outputs": [
    {
     "name": "stdout",
     "output_type": "stream",
     "text": [
      "generating the pRef......Finished (took 4.035269 seconds)\n",
      "training the decision tree...Searching for a ps in a branch with 2102 datapoints......Finished (took 6.366296 seconds)\n",
      "The chosen ps is [1 * * * 0 * * * * * 0 * * * * 0 * * * *][-1.167, 9.350, ], it has order 4\n",
      "Searching for a ps in a branch with 782 datapoints......Finished (took 5.949438 seconds)\n",
      "The chosen ps is [* * * * * * * * * * 0 * * * * * * 0 * *][-2.000, 3.248, ], it has order 2\n",
      "Searching for a ps in a branch with 642 datapoints......Finished (took 5.734656 seconds)\n",
      "The chosen ps is [* 0 * * * * 0 * * * * * * * * * 1 * * *][-1.333, 2.484, ], it has order 3\n",
      "Searching for a ps in a branch with 140 datapoints......Finished (took 5.400927 seconds)\n",
      "The chosen ps is [* * * 1 * * 0 * * * * 0 * 1 * * * * 0 *][-1.200, 3.193, ], it has order 5\n",
      "Searching for a ps in a branch with 1320 datapoints......Finished (took 5.925255 seconds)\n",
      "The chosen ps is [* * * * 0 * * * * * * * * * * * 1 * * *][-2.000, 10.143, ], it has order 2\n",
      "Searching for a ps in a branch with 626 datapoints......Finished (took 5.979631 seconds)\n",
      "The chosen ps is [* 0 * * * * 0 * * * * 0 * 1 * * * * 0 *][-1.300, 6.311, ], it has order 5\n",
      "Searching for a ps in a branch with 694 datapoints......Finished (took 5.418674 seconds)\n",
      "The chosen ps is [* * * * * * * * * * * * * * * * * 0 0 *][-1.000, 11.064, ], it has order 2\n",
      "...Finished (took 40.798564 seconds)\n",
      "Split by A=1, E=0, K=0, P=0\n",
      "\t(matches)Split by K=0, R=0\n",
      "\t\t(matches)Split by B=0, G=0, Q=1\n",
      "\t\t\t(matches)Leaf(Average = 88.08, variance = 1.93)\n",
      "\t\t\t(NOT matches)Leaf(Average = 86.66, variance = 2.93)\n",
      "\t\t(NOT matches)Split by D=1, G=0, L=0, N=1, S=0\n",
      "\t\t\t(matches)Leaf(Average = 87.09, variance = 0.88)\n",
      "\t\t\t(NOT matches)Leaf(Average = 84.49, variance = 3.96)\n",
      "\t(NOT matches)Split by E=0, Q=1\n",
      "\t\t(matches)Split by B=0, G=0, L=0, N=1, S=0\n",
      "\t\t\t(matches)Leaf(Average = 86.99, variance = 2.01)\n",
      "\t\t\t(NOT matches)Leaf(Average = 84.07, variance = 7.44)\n",
      "\t\t(NOT matches)Split by R=0, S=0\n",
      "\t\t\t(matches)Leaf(Average = 82.93, variance = 7.32)\n",
      "\t\t\t(NOT matches)Leaf(Average = 80.64, variance = 13.60)\n"
     ]
    }
   ],
   "source": [
    "from utils import announce\n",
    "from VarianceDecisionTree.PSDecisionTree import PSDecisionTree\n",
    "from Explanation.PRefManager import PRefManager\n",
    "\n",
    "\n",
    "with announce(\"generating the pRef\"):\n",
    "    pRef = PRefManager.generate_pRef(problem = problem,\n",
    "                                     sample_size=10000,\n",
    "                                     which_algorithm=\"GA\")\n",
    "\n",
    "\n",
    "metrics = \"variance ground_truth_atomicity\"\n",
    "decision_tree = PSDecisionTree(maximum_depth=3,\n",
    "                               ps_budget=3000,\n",
    "                               ps_search_population_size=100,\n",
    "                               problem = problem,\n",
    "                               metrics_to_use=metrics)\n",
    "with announce(\"training the decision tree\"):\n",
    "    decision_tree.train_from_pRef(pRef, verbose=True)\n",
    "    \n",
    "\n",
    "decision_tree.set_repr_ps(problem.repr_ps)\n",
    "\n",
    "print(decision_tree.repr_long())"
   ],
   "metadata": {
    "collapsed": false,
    "ExecuteTime": {
     "end_time": "2025-01-28T13:59:35.958224500Z",
     "start_time": "2025-01-28T13:58:51.109383200Z"
    }
   },
   "id": "c3d84e5ee74ebda6"
  },
  {
   "cell_type": "code",
   "execution_count": 5,
   "outputs": [
    {
     "name": "stdout",
     "output_type": "stream",
     "text": [
      "0 A 13\n",
      "1 B 11\n",
      "2 C 9\n",
      "3 D 13\n",
      "4 E 18\n",
      "5 F 8\n",
      "6 G 14\n",
      "7 H 9\n",
      "8 I 16\n",
      "9 J 15\n",
      "10 K 14\n",
      "11 L 17\n",
      "12 M 13\n",
      "13 N 14\n",
      "14 O 19\n",
      "15 P 11\n",
      "16 Q 17\n",
      "17 R 13\n",
      "18 S 16\n",
      "19 T 13\n"
     ]
    }
   ],
   "source": [
    "import utils\n",
    "\n",
    "for index, letter, count in zip(range(100), utils.alphabet, explainer.univariate_counts):\n",
    "    print(index, letter, count)"
   ],
   "metadata": {
    "collapsed": false,
    "ExecuteTime": {
     "end_time": "2025-01-27T18:46:57.373735Z",
     "start_time": "2025-01-27T18:46:57.358107500Z"
    }
   },
   "id": "2a74878c351bf740"
  },
  {
   "cell_type": "code",
   "execution_count": 10,
   "outputs": [
    {
     "data": {
      "text/plain": "array([[11,  1,  3,  2],\n       [ 1, 14,  5,  1],\n       [ 3,  5, 17,  1],\n       [ 2,  1,  1, 13]])"
     },
     "execution_count": 10,
     "metadata": {},
     "output_type": "execute_result"
    }
   ],
   "source": [
    "explainer.bivariate_counts"
   ],
   "metadata": {
    "collapsed": false,
    "ExecuteTime": {
     "end_time": "2025-01-27T19:00:30.797059300Z",
     "start_time": "2025-01-27T19:00:30.765802600Z"
    }
   },
   "id": "674ba8447f890ba8"
  }
 ],
 "metadata": {
  "kernelspec": {
   "display_name": "Python 3",
   "language": "python",
   "name": "python3"
  },
  "language_info": {
   "codemirror_mode": {
    "name": "ipython",
    "version": 2
   },
   "file_extension": ".py",
   "mimetype": "text/x-python",
   "name": "python",
   "nbconvert_exporter": "python",
   "pygments_lexer": "ipython2",
   "version": "2.7.6"
  }
 },
 "nbformat": 4,
 "nbformat_minor": 5
}
