{
 "cells": [
  {
   "cell_type": "code",
   "id": "initial_id",
   "metadata": {
    "collapsed": true,
    "ExecuteTime": {
     "end_time": "2025-01-24T13:38:57.677556Z",
     "start_time": "2025-01-24T13:38:57.649806Z"
    }
   },
   "source": [
    "import utils\n",
    "from BenchmarkProblems.GraphColouring import GraphColouring, GraphColouringPrettifier\n",
    "\n",
    "problem_file_name = r\"/Users/gian/PycharmProjects/PS-descriptors/resources/problem_definitions/GC/jean.json\"\n",
    "# problem_file_name = r\"C:\\Users\\gac8\\PycharmProjects\\PS-descriptors-LCS\\resources\\problem_definitions\\GC\\factors.json\"\n",
    "dat_json_file_name = r\"/Users/gian/PycharmProjects/PS-descriptors/resources/problem_definitions/GC/jean.dat.json\"\n",
    "problem = GraphColouring.from_json(problem_file_name)\n",
    "gcp = GraphColouringPrettifier.from_json(dat_json_file_name)\n",
    "\n",
    "actual_amount_of_nodes = 30\n",
    "nodes_by_count = {node_number: len([pair for pair in problem.connections if node_number in pair])\n",
    "                  for node_number in range(problem.amount_of_nodes)}\n",
    "jv_index = gcp.abbreviation_list.index(\"JV\")\n",
    "print(f\"The index of JV is {jv_index}, {nodes_by_count[jv_index]}\")\n",
    "nodes_by_count = list(nodes_by_count.items())\n",
    "nodes_by_count.sort(key=utils.second, reverse=True)\n",
    "for n, count in nodes_by_count:\n",
    "    print(n, count, gcp.get_abbreviation_from_node_number(n))\n",
    "nodes_to_keep = set(n for n, _ in nodes_by_count)\n",
    "problem = GraphColouring(amount_of_nodes=actual_amount_of_nodes,\n",
    "                         amount_of_colours=3,\n",
    "                         connections=[(a, b) for (a, b) in problem.connections \n",
    "                                        if a in nodes_to_keep \n",
    "                                        if b in nodes_to_keep])\n",
    "\n",
    "\n",
    "print(\", \".join(map(gcp.get_abbreviation_from_node_number, nodes_to_keep)))"
   ],
   "outputs": [
    {
     "name": "stdout",
     "output_type": "stream",
     "text": [
      "The index of JV is 45, 8\n",
      "36 72 GU\n",
      "71 44 SS\n",
      "14 38 CL\n",
      "27 34 FT\n",
      "56 32 MN\n",
      "2 30 BB\n",
      "8 30 BS\n",
      "33 26 GP\n",
      "65 26 PL\n",
      "6 24 BO\n",
      "18 24 CR\n",
      "37 22 HL\n",
      "43 22 JP\n",
      "47 22 LL\n",
      "58 22 MP\n",
      "67 22 QU\n",
      "78 22 XB\n",
      "3 20 BJ\n",
      "13 20 CH\n",
      "34 20 GR\n",
      "54 20 MI\n",
      "57 20 MO\n",
      "5 18 BM\n",
      "32 18 GI\n",
      "49 18 MA\n",
      "4 16 BL\n",
      "15 14 CM\n",
      "24 14 FE\n",
      "26 14 FN\n",
      "28 14 FV\n",
      "39 14 JA\n",
      "46 14 LI\n",
      "62 14 MY\n",
      "68 14 SC\n",
      "72 14 TG\n",
      "76 14 VI\n",
      "9 12 BT\n",
      "16 12 CN\n",
      "19 12 CV\n",
      "21 12 EN\n",
      "38 12 IS\n",
      "25 8 FF\n",
      "42 8 JO\n",
      "45 8 JV\n",
      "1 6 BA\n",
      "17 6 CO\n",
      "29 6 GA\n",
      "63 6 NP\n",
      "74 6 TM\n",
      "75 6 TS\n",
      "7 4 BR\n",
      "10 4 BU\n",
      "22 4 EP\n",
      "30 4 GE\n",
      "41 4 JL\n",
      "44 4 JU\n",
      "53 4 MG\n",
      "59 4 MR\n",
      "73 4 TH\n",
      "77 4 XA\n",
      "0 2 AZ\n",
      "11 2 BZ\n",
      "12 2 CC\n",
      "23 2 FA\n",
      "31 2 GG\n",
      "35 2 GT\n",
      "40 2 JD\n",
      "50 2 MB\n",
      "51 2 MC\n",
      "52 2 ME\n",
      "55 2 MM\n",
      "60 2 MT\n",
      "61 2 MV\n",
      "64 2 PG\n",
      "66 2 PO\n",
      "69 2 SN\n",
      "79 2 ZE\n",
      "20 0 DA\n",
      "48 0 LP\n",
      "70 0 SP\n",
      "AZ, BA, BB, BJ, BL, BM, BO, BR, BS, BT, BU, BZ, CC, CH, CL, CM, CN, CO, CR, CV, DA, EN, EP, FA, FE, FF, FN, FT, FV, GA, GE, GG, GI, GP, GR, GT, GU, HL, IS, JA, JD, JL, JO, JP, JU, JV, LI, LL, LP, MA, MB, MC, ME, MG, MI, MM, MN, MO, MP, MR, MT, MV, MY, NP, PG, PL, PO, QU, SC, SN, SP, SS, TG, TH, TM, TS, VI, XA, XB, ZE\n"
     ]
    }
   ],
   "execution_count": 32
  },
  {
   "cell_type": "code",
   "source": [
    "from utils import announce\n",
    "from VarianceDecisionTree.PSDecisionTree import PSDecisionTree\n",
    "from Explanation.PRefManager import PRefManager\n",
    "\n",
    "\n",
    "with announce(\"generating the pRef\"):\n",
    "    pRef = PRefManager.generate_pRef(problem = problem,\n",
    "                                     sample_size=10000,\n",
    "                                     which_algorithm=\"GA\")\n",
    "\n",
    "\n",
    "metrics = \"variance ground_truth_atomicity\"\n",
    "decision_tree = PSDecisionTree(maximum_depth=3,\n",
    "                               ps_budget=5000,\n",
    "                               ps_search_population_size=100,\n",
    "                               problem = problem,\n",
    "                               metrics_to_use=metrics)\n",
    "with announce(\"training the decision tree\"):\n",
    "    decision_tree.train_from_pRef(pRef, verbose=True)\n",
    "    \n",
    "\n",
    "#decision_tree.set_repr_ps(gcp.repr_ps)\n",
    "\n",
    "print(decision_tree.repr_long())"
   ],
   "metadata": {
    "collapsed": false,
    "ExecuteTime": {
     "end_time": "2025-01-24T12:01:30.024012Z",
     "start_time": "2025-01-24T12:01:06.218582Z"
    }
   },
   "id": "55fb643f8354a651",
   "outputs": [
    {
     "name": "stdout",
     "output_type": "stream",
     "text": [
      "generating the pRef......Finished (took 0.425926 seconds)\n",
      "training the decision tree...Searching for a ps in a branch with 6166 datapoints......Finished (took 4.300973 seconds)\n",
      "Searching for a ps in a branch with 3076 datapoints......Finished (took 3.430986 seconds)\n",
      "Searching for a ps in a branch with 2555 datapoints......Finished (took 3.205617 seconds)\n",
      "Searching for a ps in a branch with 521 datapoints......Finished (took 2.617082 seconds)\n",
      "Searching for a ps in a branch with 3090 datapoints......Finished (took 3.646033 seconds)\n",
      "Searching for a ps in a branch with 972 datapoints......Finished (took 2.841725 seconds)\n",
      "Searching for a ps in a branch with 2118 datapoints......Finished (took 3.326791 seconds)\n",
      "...Finished (took 23.374178 seconds)\n",
      "Split by [* * 0 * 1 * * * * * * * * * * * * * * * * * * * * * * 2 * *][-2.500, 22.288, ]\n",
      "\t(matches)Split by [* * * * * * * * 1 * * * * * 2 * * * * * * * * * * * * * * *][-2.500, 6.836, ]\n",
      "\t\t(matches)Split by [* * * * * * 0 * * * * * * * * * * * 0 * * * * * * * * * * *][-3.000, 4.624, ]\n",
      "\t\t\t(matches)Leaf(Average = 66.17, variance = 3.99)\n",
      "\t\t\t(NOT matches)Leaf(Average = 65.70, variance = 5.96)\n",
      "\t\t(NOT matches)Split by [* * * * * * * * * * * * * * * * * * * * * * * * 2 * 1 * * *][-2.500, 13.542, ]\n",
      "\t\t\t(matches)Leaf(Average = 61.70, variance = 12.18)\n",
      "\t\t\t(NOT matches)Leaf(Average = 57.46, variance = 16.45)\n",
      "\t(NOT matches)Split by [* * * * * * 0 * 2 * * * * * 1 * * * * * * * * * * * * * * *][-2.500, 28.151, ]\n",
      "\t\t(matches)Split by [* * * 1 * * 0 * * * * * * * * * * * * * * * * * * * * * * *][-2.500, 15.693, ]\n",
      "\t\t\t(matches)Leaf(Average = 61.87, variance = 13.25)\n",
      "\t\t\t(NOT matches)Leaf(Average = 56.62, variance = 30.84)\n",
      "\t\t(NOT matches)Split by [* * * * * * 0 * * * * * * * * * * * 0 * * * * * * * * * * *][-3.000, 30.666, ]\n",
      "\t\t\t(matches)Leaf(Average = 58.23, variance = 27.39)\n",
      "\t\t\t(NOT matches)Leaf(Average = 55.43, variance = 32.18)\n"
     ]
    }
   ],
   "execution_count": 16
  },
  {
   "cell_type": "code",
   "source": [
    "from Core.PS import PS\n",
    "\n",
    "\n",
    "def repr_factors(ps:PS) -> str:\n",
    "    fixed_positions = ps.get_fixed_variable_positions()\n",
    "    return \", \".join(f\"{i}-{ps.values[i]}\" for i in fixed_positions)\n",
    "\n",
    "decision_tree.set_repr_ps(gcp.repr_ps)\n",
    "#decision_tree.set_repr_ps(repr_factors)"
   ],
   "metadata": {
    "collapsed": false,
    "ExecuteTime": {
     "end_time": "2025-01-24T12:02:21.037230Z",
     "start_time": "2025-01-24T12:02:21.029018Z"
    }
   },
   "id": "1d7b376a5bd93bc5",
   "outputs": [],
   "execution_count": 17
  },
  {
   "metadata": {
    "ExecuteTime": {
     "end_time": "2025-01-24T12:02:24.914861Z",
     "start_time": "2025-01-24T12:02:24.910238Z"
    }
   },
   "cell_type": "code",
   "source": [
    "print(decision_tree.repr_long())"
   ],
   "id": "ee438240dd4f2071",
   "outputs": [
    {
     "name": "stdout",
     "output_type": "stream",
     "text": [
      "Split by [Red]\tBabet, tooth-pulling bandit of Paris + [Green]\tBlacheville, Parisian student from Montauban + [Blue]\tF\\'elix Tholomy\\`es, Parisian student from Toulouse\n",
      "\t(matches)Split by [Green]\tBruneseau, explorer and mapper of the sewers of Paris + [Blue]\tCountess de L\\^o, distant relative of MY\n",
      "\t\t(matches)Split by [Red]\tBossuet (Lesgle), `Friends of the ABC' klutz + [Red]\tCourfeyrac, `Friends of the ABC' center\n",
      "\t\t\t(matches)Leaf(Average = 66.17, variance = 3.99)\n",
      "\t\t\t(NOT matches)Leaf(Average = 65.70, variance = 5.96)\n",
      "\t\t(NOT matches)Split by [Blue]\tFeuilly, `Friends of the ABC' political idealist + [Green]\tFantine, lover of FT\n",
      "\t\t\t(matches)Leaf(Average = 61.70, variance = 12.18)\n",
      "\t\t\t(NOT matches)Leaf(Average = 57.46, variance = 16.45)\n",
      "\t(NOT matches)Split by [Red]\tBossuet (Lesgle), `Friends of the ABC' klutz + [Blue]\tBruneseau, explorer and mapper of the sewers of Paris + [Green]\tCountess de L\\^o, distant relative of MY\n",
      "\t\t(matches)Split by [Green]\tBrujon, notorious criminal + [Red]\tBossuet (Lesgle), `Friends of the ABC' klutz\n",
      "\t\t\t(matches)Leaf(Average = 61.87, variance = 13.25)\n",
      "\t\t\t(NOT matches)Leaf(Average = 56.62, variance = 30.84)\n",
      "\t\t(NOT matches)Split by [Red]\tBossuet (Lesgle), `Friends of the ABC' klutz + [Red]\tCourfeyrac, `Friends of the ABC' center\n",
      "\t\t\t(matches)Leaf(Average = 58.23, variance = 27.39)\n",
      "\t\t\t(NOT matches)Leaf(Average = 55.43, variance = 32.18)\n"
     ]
    }
   ],
   "execution_count": 18
  }
 ],
 "metadata": {
  "kernelspec": {
   "display_name": "Python 3",
   "language": "python",
   "name": "python3"
  },
  "language_info": {
   "codemirror_mode": {
    "name": "ipython",
    "version": 2
   },
   "file_extension": ".py",
   "mimetype": "text/x-python",
   "name": "python",
   "nbconvert_exporter": "python",
   "pygments_lexer": "ipython2",
   "version": "2.7.6"
  }
 },
 "nbformat": 4,
 "nbformat_minor": 5
}
